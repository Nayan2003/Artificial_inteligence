{
 "cells": [
  {
   "cell_type": "code",
   "execution_count": null,
   "id": "5da55dd1",
   "metadata": {},
   "outputs": [],
   "source": []
  },
  {
   "cell_type": "code",
   "execution_count": 2,
   "id": "5b003186",
   "metadata": {},
   "outputs": [
    {
     "ename": "ModuleNotFoundError",
     "evalue": "No module named 'pandas'",
     "output_type": "error",
     "traceback": [
      "\u001b[1;31m---------------------------------------------------------------------------\u001b[0m",
      "\u001b[1;31mModuleNotFoundError\u001b[0m                       Traceback (most recent call last)",
      "Cell \u001b[1;32mIn[2], line 2\u001b[0m\n\u001b[0;32m      1\u001b[0m \u001b[38;5;28;01mimport\u001b[39;00m \u001b[38;5;21;01mnumpy\u001b[39;00m \u001b[38;5;28;01mas\u001b[39;00m \u001b[38;5;21;01mnp\u001b[39;00m\n\u001b[1;32m----> 2\u001b[0m \u001b[38;5;28;01mimport\u001b[39;00m \u001b[38;5;21;01mpandas\u001b[39;00m \u001b[38;5;28;01mas\u001b[39;00m \u001b[38;5;21;01mpd\u001b[39;00m\n\u001b[0;32m      3\u001b[0m \u001b[38;5;28;01mimport\u001b[39;00m \u001b[38;5;21;01mseaborn\u001b[39;00m \u001b[38;5;28;01mas\u001b[39;00m \u001b[38;5;21;01msns\u001b[39;00m\n\u001b[0;32m      4\u001b[0m \u001b[38;5;28;01mimport\u001b[39;00m \u001b[38;5;21;01mmatplotlib\u001b[39;00m\u001b[38;5;21;01m.\u001b[39;00m\u001b[38;5;21;01mpyplot\u001b[39;00m \u001b[38;5;28;01mas\u001b[39;00m \u001b[38;5;21;01mplt\u001b[39;00m\n",
      "\u001b[1;31mModuleNotFoundError\u001b[0m: No module named 'pandas'"
     ]
    }
   ],
   "source": [
    "import numpy as np\n",
    "import pandas as pd\n",
    "import seaborn as sns\n",
    "import matplotlib.pyplot as plt\n",
    "import plotly.express as px\n",
    "%matplotlib inline\n",
    "from plotly.offline import plot, iplot, init_notebook_mode\n",
    "init_notebook_mode(connected=True)\n",
    "\n",
    "\n",
    "import warnings\n",
    "warnings.filterwarnings('ignore')"
   ]
  },
  {
   "cell_type": "code",
   "execution_count": null,
   "id": "40924763",
   "metadata": {},
   "outputs": [],
   "source": [
    "#color pallete\n",
    "cnf, dth, rec, act = '#393e46', '#ff2e63', '#21bf73', '#fe9801' "
   ]
  },
  {
   "cell_type": "markdown",
   "id": "2bb028bc",
   "metadata": {},
   "source": [
    "# Context\n",
    "- A new coronavirus designated 2019-nCoV was first identified in Wuhan, the capital of China's Hubei province\n",
    "- People developed pneumonia without a clear cause and for which existing vaccines or treatments were not effective.\n",
    "- The virus has shown evidence of human-to-human transmission\n",
    "- Transmission rate (rate of infection) appeared to escalate in mid-January 2020\n",
    "- As of 30 January 2020, approximately 8,243 cases have been confirmed"
   ]
  },
  {
   "cell_type": "code",
   "execution_count": null,
   "id": "70aeda04",
   "metadata": {},
   "outputs": [],
   "source": [
    "#Importing dataset\n",
    "df = pd.read_csv(\"D:\\\\archive (5)\\\\full_grouped.csv\")\n",
    "df.head()"
   ]
  },
  {
   "cell_type": "code",
   "execution_count": null,
   "id": "57361d40",
   "metadata": {},
   "outputs": [],
   "source": [
    "#Cheking shape of the data (rows and columns)\n",
    "\n",
    "df.shape"
   ]
  },
  {
   "cell_type": "code",
   "execution_count": null,
   "id": "61ffc6fd",
   "metadata": {},
   "outputs": [],
   "source": [
    "#basic info about the data\n",
    "df.info()"
   ]
  },
  {
   "cell_type": "code",
   "execution_count": null,
   "id": "daf1734d",
   "metadata": {},
   "outputs": [],
   "source": [
    "df.columns"
   ]
  },
  {
   "cell_type": "code",
   "execution_count": null,
   "id": "0dc395d8",
   "metadata": {},
   "outputs": [],
   "source": []
  },
  {
   "cell_type": "code",
   "execution_count": null,
   "id": "75de92f5",
   "metadata": {},
   "outputs": [],
   "source": [
    "df.info()"
   ]
  },
  {
   "cell_type": "code",
   "execution_count": null,
   "id": "1c5091aa",
   "metadata": {},
   "outputs": [],
   "source": [
    "df.describe().T"
   ]
  },
  {
   "cell_type": "code",
   "execution_count": null,
   "id": "75c97eac",
   "metadata": {},
   "outputs": [],
   "source": [
    "#Checking Missing values\n",
    "df.isnull().sum()"
   ]
  },
  {
   "cell_type": "code",
   "execution_count": null,
   "id": "03dbec31",
   "metadata": {},
   "outputs": [],
   "source": [
    "#Ckecking duplicated value\n",
    "df.duplicated().sum()"
   ]
  },
  {
   "cell_type": "code",
   "execution_count": null,
   "id": "dfdecc1b",
   "metadata": {},
   "outputs": [],
   "source": [
    "#Numerical Feature\n",
    "Num_col = [feature for feature in df.columns if df[feature].dtypes!=\"O\"]\n",
    "Num_col"
   ]
  },
  {
   "cell_type": "code",
   "execution_count": null,
   "id": "04204444",
   "metadata": {},
   "outputs": [],
   "source": [
    "df.dtypes"
   ]
  },
  {
   "cell_type": "code",
   "execution_count": null,
   "id": "4dd56a9e",
   "metadata": {},
   "outputs": [],
   "source": [
    "df[\"Date\"]=pd.to_datetime(df['Date'])"
   ]
  },
  {
   "cell_type": "code",
   "execution_count": null,
   "id": "16c206ac",
   "metadata": {},
   "outputs": [],
   "source": [
    "#Categorical feature\n",
    "Cat_col = [feature for feature in df.columns if df[feature].dtype == 'O']"
   ]
  },
  {
   "cell_type": "code",
   "execution_count": null,
   "id": "da9b67b8",
   "metadata": {},
   "outputs": [],
   "source": [
    "Cat_col"
   ]
  },
  {
   "cell_type": "code",
   "execution_count": null,
   "id": "16bff5ed",
   "metadata": {},
   "outputs": [],
   "source": [
    "plt.figure(figsize=(15,15))\n",
    "plt.suptitle('Univariate Data Analysis On Numeric Features', fontsize=20, fontweight='bold')\n",
    "\n",
    "for i in range(0, len(Num_col)):\n",
    "    plt.subplot(3,3, i+1)\n",
    "    sns.kdeplot(x=df[Num_col[i]], shade=True, color='g')\n",
    "    plt.xlabel(Num_col[i])\n",
    "    plt.tight_layout()"
   ]
  },
  {
   "cell_type": "markdown",
   "id": "297aab35",
   "metadata": {},
   "source": [
    "### Observation\n",
    "- All Features are normally distrubuted which means we don't have outliers\n"
   ]
  },
  {
   "cell_type": "code",
   "execution_count": null,
   "id": "6be2a603",
   "metadata": {},
   "outputs": [],
   "source": [
    "df['Date']"
   ]
  },
  {
   "cell_type": "code",
   "execution_count": null,
   "id": "64dd5691",
   "metadata": {},
   "outputs": [],
   "source": [
    "df['Year']=df[\"Date\"].dt.year"
   ]
  },
  {
   "cell_type": "code",
   "execution_count": null,
   "id": "e99ff65c",
   "metadata": {},
   "outputs": [],
   "source": [
    "df['Month']=df[\"Date\"].dt.month_name()"
   ]
  },
  {
   "cell_type": "code",
   "execution_count": null,
   "id": "e1a46289",
   "metadata": {},
   "outputs": [],
   "source": [
    "df['Day']=df[\"Date\"].dt.day"
   ]
  },
  {
   "cell_type": "code",
   "execution_count": null,
   "id": "6c594857",
   "metadata": {},
   "outputs": [],
   "source": [
    "df.head(1)"
   ]
  },
  {
   "cell_type": "code",
   "execution_count": null,
   "id": "080e4265",
   "metadata": {},
   "outputs": [],
   "source": [
    "for feature in df.columns:\n",
    "    print(f\"feature {feature} has total {df[feature].unique} value which are {df[feature].unique()}\")"
   ]
  },
  {
   "cell_type": "code",
   "execution_count": null,
   "id": "0f2169ab",
   "metadata": {},
   "outputs": [],
   "source": [
    "# px.bar(df, x='Month', y='Recovered', color='WHO Region', title=\"WHO Region wise total recovered patients\")"
   ]
  },
  {
   "cell_type": "code",
   "execution_count": null,
   "id": "02348d20",
   "metadata": {},
   "outputs": [],
   "source": [
    "df['WHO Region'].unique()"
   ]
  },
  {
   "cell_type": "code",
   "execution_count": null,
   "id": "e0436019",
   "metadata": {},
   "outputs": [],
   "source": [
    "\n",
    "#fig = px.bar(df, x='Month', y='Confirmed',\n",
    "             #hover_data=['Active', 'Deaths'], color='Country/Region',\n",
    "             #labels={\"WHO Region\":\"'South-East Asia'\"}, height=400)\n",
    "#fig.show()"
   ]
  },
  {
   "cell_type": "code",
   "execution_count": null,
   "id": "0f2ea52c",
   "metadata": {},
   "outputs": [],
   "source": [
    "def plot_map(df, col, pal):\n",
    "    df = df[df[col]>0]\n",
    "    fig = px.choropleth(df, locations=\"Country/Region\", locationmode='country names', \n",
    "                  color=col, hover_name=\"Country/Region\", \n",
    "                  title=col, hover_data=[col], color_continuous_scale=pal)\n",
    "#     fig.update_layout(coloraxis_showscale=False)\n",
    "    fig.show()"
   ]
  },
  {
   "cell_type": "code",
   "execution_count": null,
   "id": "3a9593af",
   "metadata": {},
   "outputs": [],
   "source": [
    "# Over the time\n",
    "\n",
    "fig = px.choropleth(df, locations=\"Country/Region\", \n",
    "                    color=np.log(df[\"Confirmed\"]),\n",
    "                    locationmode='country names', hover_name=\"Country/Region\", \n",
    "                    animation_frame=df[\"Date\"].dt.strftime('%Y-%m-%d'),\n",
    "                    title='Cases over time', color_continuous_scale=px.colors.sequential.matter)\n",
    "\n",
    "fig.update(layout_coloraxis_showscale=False)\n",
    "fig.show()\n"
   ]
  },
  {
   "cell_type": "markdown",
   "id": "6f5250ad",
   "metadata": {},
   "source": [
    "### Observation\n",
    "- Here we plot worldmap for confirmed based on day column\n",
    "- the intensity describe the no. of confirmed cases\n",
    "- the Higher the intensity the larger the confirmed case"
   ]
  },
  {
   "cell_type": "code",
   "execution_count": null,
   "id": "a2104359",
   "metadata": {},
   "outputs": [],
   "source": [
    "temp =df.groupby('Date')['Recovered', 'Deaths', 'Active'].sum().reset_index()\n",
    "temp = temp.melt(id_vars=\"Date\", value_vars=['Recovered', 'Deaths', 'Active'],\n",
    "                 var_name='Case', value_name='Count')\n",
    "temp.head()\n",
    "\n",
    "fig = px.area(temp, x=\"Date\", y=\"Count\", color='Case', height=600, width=700,\n",
    "             title='Cases over time', color_discrete_sequence = ['#21bf73', '#fe9801', '#393e46'])\n",
    "final_fig=fig.update_layout(xaxis_rangeslider_visible=True)\n",
    "final_fig.show()"
   ]
  },
  {
   "cell_type": "markdown",
   "id": "0bf4d172",
   "metadata": {},
   "source": [
    "### Observation\n",
    "- Here we plot areaplot for Active cases, total Deaths and Recovered petients\n",
    "- as we can see from month feb to mid march the intesity of covid is low compare to june-july\n"
   ]
  },
  {
   "cell_type": "code",
   "execution_count": null,
   "id": "3c319bb6",
   "metadata": {},
   "outputs": [],
   "source": [
    "def plot_treemap(col):\n",
    "    fig = px.treemap(df, path=[\"Country/Region\"], values=col, height=700,\n",
    "                 title=col, color_discrete_sequence = px.colors.qualitative.Dark2)\n",
    "    fig.data[0].textinfo = 'label+text+value'\n",
    "    fig.show()"
   ]
  },
  {
   "cell_type": "code",
   "execution_count": null,
   "id": "e1440b69",
   "metadata": {},
   "outputs": [],
   "source": [
    "plot_treemap('Deaths')"
   ]
  },
  {
   "cell_type": "markdown",
   "id": "68532233",
   "metadata": {},
   "source": [
    "### Observation\n",
    "- We plot Treemap for deaths cases for better understanding the data\n",
    "- USA, UK, Brazil, Italy and France have the most deaths record"
   ]
  },
  {
   "cell_type": "code",
   "execution_count": null,
   "id": "7cfe167b",
   "metadata": {},
   "outputs": [],
   "source": [
    "# def plot_hbar(df, col, n, hover_data=[]):\n",
    "   # fig = px.bar(df.sort_values(col).tail(n), \n",
    "    #             x=col, y=\"Country/Region\", color='WHO Region',  \n",
    "     #            text=col, orientation='h', width=700, hover_data=hover_data,\n",
    "      #           color_discrete_sequence = px.colors.qualitative.Dark2)\n",
    "   # fig.update_layout(title=col, xaxis_title=\"\", yaxis_title=\"\", \n",
    "    #                  yaxis_categoryorder = 'total ascending',\n",
    "     #                 uniformtext_minsize=8, uniformtext_mode='hide')\n",
    "   # fig.show()"
   ]
  },
  {
   "cell_type": "code",
   "execution_count": null,
   "id": "8f42aeb3",
   "metadata": {},
   "outputs": [],
   "source": [
    "#plot_hbar(df,'Active',5)"
   ]
  },
  {
   "cell_type": "code",
   "execution_count": null,
   "id": "101fafd8",
   "metadata": {},
   "outputs": [],
   "source": [
    "temp = df[['Date','Deaths', 'Recovered', 'Active']].tail(1)\n",
    "temp = temp.melt(id_vars=\"Date\", value_vars=['Active', 'Deaths', 'Recovered'])\n",
    "fig = px.treemap(temp, path=[\"variable\"], values=\"value\", height=225, \n",
    "                 color_discrete_sequence=[act, rec, dth])\n",
    "fig.data[0].textinfo = 'label+text+value'\n",
    "fig.show()"
   ]
  },
  {
   "cell_type": "code",
   "execution_count": null,
   "id": "0d1f2bf5",
   "metadata": {},
   "outputs": [],
   "source": [
    "def plot_map(df, col, pal):\n",
    "    df = df[df[col]>0]\n",
    "    fig = px.choropleth(df, locations=\"Country/Region\", locationmode='country names', \n",
    "                  color=col, hover_name=\"Country/Region\", \n",
    "                  title=col, hover_data=[col], color_continuous_scale=pal)\n",
    "#     fig.update_layout(coloraxis_showscale=False)\n",
    "    fig.show()"
   ]
  },
  {
   "cell_type": "code",
   "execution_count": null,
   "id": "cb9a8754",
   "metadata": {},
   "outputs": [],
   "source": [
    "#World map for active patients\n",
    "#plot_map(df, 'Active', 'aggrnyl') \n"
   ]
  },
  {
   "cell_type": "code",
   "execution_count": null,
   "id": "3019038c",
   "metadata": {},
   "outputs": [],
   "source": [
    "#plot_map(df, 'New recovered', 'aggrnyl') "
   ]
  },
  {
   "cell_type": "code",
   "execution_count": null,
   "id": "e6b0193e",
   "metadata": {},
   "outputs": [],
   "source": [
    "# Here we use a column with categorical data\n",
    "fig = px.histogram(df, x=\"Country/Region\" ,y=\"Deaths\")\n",
    "fig.show()"
   ]
  },
  {
   "cell_type": "code",
   "execution_count": null,
   "id": "d44ebc2b",
   "metadata": {},
   "outputs": [],
   "source": [
    "#Country wise lineplot for deaths cases out of confirmed cases \n",
    "fig = px.line(df, x=\"Confirmed\", y=\"Recovered\", color='Country/Region', title=\"Country wise lineplot for Recovered cases out of confirmed cases \")\n",
    "fig.show()"
   ]
  },
  {
   "cell_type": "markdown",
   "id": "f5293867",
   "metadata": {},
   "source": [
    "### Observation\n",
    "-Lineplot for recovered cases accross the world\n",
    "-Us,Brazil and India are top 3 countries who has better recovery rate"
   ]
  },
  {
   "cell_type": "code",
   "execution_count": null,
   "id": "799dad83",
   "metadata": {},
   "outputs": [],
   "source": [
    "fig = px.scatter(df, x=\"WHO Region\", y=\"Recovered\", color='Month', title=\"Month wise recoverd patients from various WHO Regions\")\n",
    "fig.show()"
   ]
  },
  {
   "cell_type": "markdown",
   "id": "56828376",
   "metadata": {},
   "source": [
    "### Observation\n",
    "- Scatter plot for Month wise recoverd patients from various WHO Regions\n",
    "- During Month June and July most people got recovered"
   ]
  },
  {
   "cell_type": "code",
   "execution_count": null,
   "id": "07fdf35e",
   "metadata": {},
   "outputs": [],
   "source": [
    "df.head(1)"
   ]
  },
  {
   "cell_type": "code",
   "execution_count": null,
   "id": "742aef9a",
   "metadata": {},
   "outputs": [],
   "source": [
    "fig = px.pie(df, values='Confirmed', names='Country/Region',\n",
    "             title='Active Patients among the world',\n",
    "             hover_data=['Active'], labels={'Active':'Active cases'})\n",
    "fig.update_traces(textposition='inside', textinfo='percent+label')\n",
    "fig.show()"
   ]
  },
  {
   "cell_type": "markdown",
   "id": "78473e78",
   "metadata": {},
   "source": [
    "### Observation\n",
    "- Pie diagram for Active patients accross the world\n",
    "-US,Brazil,Russia,India and Spain are the countries with most active cases\n"
   ]
  },
  {
   "cell_type": "raw",
   "id": "806e2589",
   "metadata": {},
   "source": [
    "temp = df[['Date', 'Recovered', 'Active']]\n",
    "temp = temp.melt(id_vars='Date', value_vars=['Recovered', 'Active'], \n",
    "                 var_name='Variable', value_name='Count')\n",
    "px.line(temp, x='Date', y='Count', color='Variable')"
   ]
  },
  {
   "cell_type": "raw",
   "id": "4a4e4433",
   "metadata": {},
   "source": [
    "def plot_hbar(df, col, n, hover_data=[]):\n",
    "    fig = px.bar(df.sort_values(col).tail(n), \n",
    "                 x=col, y=\"Country/Region\", color='WHO Region',  \n",
    "                 text=col, orientation='h', width=700, hover_data=hover_data,\n",
    "                 color_discrete_sequence = px.colors.qualitative.Dark2)\n",
    "    fig.update_layout(title=col, xaxis_title=\"\", yaxis_title=\"\", \n",
    "                      yaxis_categoryorder = 'total ascending',\n",
    "                      uniformtext_minsize=8, uniformtext_mode='hide')\n",
    "    fig.show()"
   ]
  },
  {
   "cell_type": "raw",
   "id": "f481ab47",
   "metadata": {},
   "source": [
    "def plot_daywise(col, hue):\n",
    "    fig = px.bar(day_wise, x=\"Date\", y=col, width=700, color_discrete_sequence=[hue])\n",
    "    fig.update_layout(title=col, xaxis_title=\"\", yaxis_title=\"\")\n",
    "    fig.show()"
   ]
  },
  {
   "cell_type": "raw",
   "id": "44607100",
   "metadata": {},
   "source": [
    "fig = px.scatter(df.sort_values('Deaths', ascending=False).iloc[:20, :], \n",
    "                 x='Confirmed', y='Deaths', color='Country/Region', size='Confirmed', \n",
    "                 height=700, text='Country/Region', log_x=True, log_y=True, \n",
    "                 title='Deaths vs Confirmed (Scale is in log10)')\n",
    "fig.update_traces(textposition='top center')\n",
    "fig.update_layout(showlegend=False)\n",
    "fig.update_layout(xaxis_rangeslider_visible=True)\n",
    "fig.show()"
   ]
  },
  {
   "cell_type": "code",
   "execution_count": null,
   "id": "8181a34e",
   "metadata": {},
   "outputs": [],
   "source": []
  }
 ],
 "metadata": {
  "kernelspec": {
   "display_name": "Python 3 (ipykernel)",
   "language": "python",
   "name": "python3"
  },
  "language_info": {
   "codemirror_mode": {
    "name": "ipython",
    "version": 3
   },
   "file_extension": ".py",
   "mimetype": "text/x-python",
   "name": "python",
   "nbconvert_exporter": "python",
   "pygments_lexer": "ipython3",
   "version": "3.11.1"
  }
 },
 "nbformat": 4,
 "nbformat_minor": 5
}
